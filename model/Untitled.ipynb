{
 "cells": [
  {
   "cell_type": "code",
   "execution_count": null,
   "id": "3a29231d",
   "metadata": {},
   "outputs": [],
   "source": [
    "import chess\n",
    "import chess.engine\n",
    "import random\n",
    "import numpy"
   ]
  },
  {
   "cell_type": "code",
   "execution_count": null,
   "id": "bb087c3c",
   "metadata": {},
   "outputs": [],
   "source": [
    "def random_board(max_depth=200):\n",
    "    board = chess.Board()\n",
    "    depth = random.randrange(0,max_depth)\n",
    "\n",
    "    for _ in range(depth):\n",
    "        all_moves = list(board.legal_moves)\n",
    "        random_move = random.choice(all_moves)\n",
    "        board.push(random_move)\n",
    "        if board.is_game_over():\n",
    "            break\n",
    "    return board\n",
    "\n",
    "def stockfish(board, depth):\n",
    "  with chess.engine.SimpleEngine.popen_uci('./content/stockfish.exe') as sf:\n",
    "    result = sf.analyse(board, chess.engine.Limit(depth=depth))\n",
    "    score = result['score'].white().score()\n",
    "    return score\n",
    "\n"
   ]
  },
  {
   "cell_type": "code",
   "execution_count": null,
   "id": "e98f091a",
   "metadata": {},
   "outputs": [],
   "source": [
    "board = random_board()\n",
    "board"
   ]
  },
  {
   "cell_type": "code",
   "execution_count": null,
   "id": "81b97ef1",
   "metadata": {},
   "outputs": [],
   "source": [
    "print(stockfish(board,64))"
   ]
  },
  {
   "cell_type": "code",
   "execution_count": null,
   "id": "2e652018",
   "metadata": {},
   "outputs": [],
   "source": [
    "squares_index = {\n",
    "    'a':0,\n",
    "    'b':1,\n",
    "    'c':2,\n",
    "    'd':3,\n",
    "    'e':4,\n",
    "    'f':5,\n",
    "    'g':6,\n",
    "    'h':7\n",
    "}\n",
    "\n",
    "# example h3 -> 17\n",
    "def square_to_index(square):\n",
    "   letter = chess.square_name(square)\n",
    "   return 8 - int(letter[1]), squares_index[letter[0]]\n",
    "\n",
    "def split_dims(board):\n",
    "    board3d = numpy.zeros((14, 8, 8), dtype=numpy.int8)\n",
    "    for piece in chess.PIECE_TYPES:\n",
    "        for square in board.pieces(piece, chess.WHITE):\n",
    "            idx = numpy.unravel_index(square, (8, 8))\n",
    "            board3d[piece - 1][7 - idx[0]][idx[1]] = 1\n",
    "        for square in board.pieces(piece, chess.BLACK):\n",
    "            idx = numpy.unravel_index(square, (8, 8))\n",
    "            board3d[piece + 5][7 - idx[0]][idx[1]] = 1\n",
    "\n",
    "    aux = board.turn\n",
    "    board.turn = chess.WHITE\n",
    "    for move in board.legal_moves:\n",
    "        i, j = square_to_index(move.to_square)\n",
    "        board3d[12][i][j] = 1\n",
    "    board.turn = chess.BLACK\n",
    "    for move in board.legal_moves:\n",
    "        i, j = square_to_index(move.to_square)\n",
    "        board3d[13][i][j] = 1\n",
    "    board.turn = aux\n",
    "\n",
    "    return board3d\n"
   ]
  },
  {
   "cell_type": "code",
   "execution_count": null,
   "id": "8d143bc9",
   "metadata": {},
   "outputs": [],
   "source": [
    "split_dims(board)"
   ]
  }
 ],
 "metadata": {
  "kernelspec": {
   "display_name": "Python 3 (ipykernel)",
   "language": "python",
   "name": "python3"
  },
  "language_info": {
   "codemirror_mode": {
    "name": "ipython",
    "version": 3
   },
   "file_extension": ".py",
   "mimetype": "text/x-python",
   "name": "python",
   "nbconvert_exporter": "python",
   "pygments_lexer": "ipython3",
   "version": "3.11.3"
  }
 },
 "nbformat": 4,
 "nbformat_minor": 5
}
